{
 "cells": [
  {
   "cell_type": "code",
   "execution_count": 1,
   "metadata": {},
   "outputs": [],
   "source": [
    "import sys\n",
    "sys.path.append(\"C:\\\\Users\\\\lauth\\\\OneDrive\\\\Desktop\\\\open_ai_assistant_v2\")\n",
    "from src.components.chains.chains import Assistant\n",
    "import pandas as pd\n",
    "\n",
    "assistant = Assistant(conversation_id=\"8af20de4-cd11-41da-9a9d-04762dd91322\")"
   ]
  },
  {
   "cell_type": "markdown",
   "metadata": {},
   "source": [
    "#### Generando un resumen de la conversación"
   ]
  },
  {
   "cell_type": "code",
   "execution_count": 2,
   "metadata": {},
   "outputs": [
    {
     "name": "stdout",
     "output_type": "stream",
     "text": [
      "\n",
      "        The conversation is about obtaining the average static pressure of the flow computer with tag FQI-EMED-3135.01-067 for the months of August 2023.\n"
     ]
    }
   ],
   "source": [
    "assistant.add_user_message(message=\"Dame el promedio de la presion estatica del computador de flujo con tag FQI-EMED-3135.01-067 para los meses de agosto del 2023\")\n",
    "# assistant.add_ai_message(message=\"Aqui tienes la lista de los sistemas de Medicion: Medidor 1a, Medidor 2a, Medidor 3a\")\n",
    "# assistant.add_user_message(message=\"Hola\")\n",
    "# assistant.add_ai_message(message=\"Claro, ¿me puedes proporcionar un identificador del sistema de medición?\")\n",
    "# assistant.add_user_message(message=\"me dices cuales son los ids que existen?\")\n",
    "# assistant.add_user_message(message=\"el Tag es F980-40\")\n",
    "# assistant.add_ai_message(message=\"Por supuesto, ¿que tipo de información requieres?\")\n",
    "# assistant.add_user_message(message=\"Me gustaria saber el promedio de la presion en las fechas de enero y febrero\")\n",
    "# assistant.add_user_message(message=\"Necesito una lista de los sistemas de medicion de gas\")\n",
    "summary = assistant.get_memory_summary()\n",
    "print(summary)"
   ]
  },
  {
   "cell_type": "markdown",
   "metadata": {},
   "source": [
    "#### Generamos el requerimiento"
   ]
  },
  {
   "cell_type": "code",
   "execution_count": 3,
   "metadata": {},
   "outputs": [
    {
     "name": "stdout",
     "output_type": "stream",
     "text": [
      "The human is asking for the average static pressure of the flow computer with Tag FQI-EMED-3135.01-067 for the months of August 2023.\n"
     ]
    }
   ],
   "source": [
    "user_request = assistant.get_request(summary)\n",
    "print(user_request[\"request\"])"
   ]
  },
  {
   "cell_type": "markdown",
   "metadata": {},
   "source": [
    "#### Obtenemos las keywords"
   ]
  },
  {
   "cell_type": "code",
   "execution_count": 4,
   "metadata": {},
   "outputs": [
    {
     "data": {
      "text/plain": [
       "['variables', 'pressure', 'flow computer', 'average', 'month', '2023']"
      ]
     },
     "execution_count": 4,
     "metadata": {},
     "output_type": "execute_result"
    }
   ],
   "source": [
    "kw = assistant.get_keywords_from_requirement(user_request[\"request\"])\n",
    "kw"
   ]
  },
  {
   "cell_type": "markdown",
   "metadata": {},
   "source": [
    "#### Datos de tablas"
   ]
  },
  {
   "cell_type": "code",
   "execution_count": 5,
   "metadata": {},
   "outputs": [
    {
     "name": "stdout",
     "output_type": "stream",
     "text": [
      "[('var_variable_datos', \"The table var_variable_datos contains read/measured/calculated values/information for variables in table var_tipo_variable. They are classified by the measurement system through the idSistemaMedicion_fk column and the variable through the idVariable_fk column.'\", 'CREATE TABLE IF NOT EXISTS dbo_v2.var_variable_datos (\\n    Fecha DATETIME,\\n    idVariable_fk INT,\\n    idSistemaMedicion_fk INT,\\n    Valor FLOAT,\\n    Valor_String VARCHAR(100),\\n    PRIMARY KEY (Fecha, idVariable_fk, idSistemaMedicion_fk),\\n    FOREIGN KEY (idVariable_fk) REFERENCES dbo_v2.var_tipo_variable (Id),\\n    FOREIGN KEY (idSistemaMedicion_fk) REFERENCES dbo_v2.med_sistema_medicion (Id)\\n)'), ('fcs_computador_medidor', 'The fcs_computador_medidor table connect fcs_computadores table and med_sistema_medicion with IdComputador_fk that is a foreign key referencing the Id column in the fcs_computadores table and the Id_Sisema_Medicion is a foreign key referencing the Id column in the med_sistema_medicion table.\\nYou can find info about meters for each measurement system, the flow computer to which it is a part is found in the column idcomputer_fk.', 'CREATE TABLE IF NOT EXISTS dbo_v2.fcs_computador_medidor (\\n    Id INT PRIMARY KEY,\\n    Codigo_Medidor VARCHAR(100),\\n    Estado VARCHAR(100),\\n    Id_Sisema_Medicion INT,\\n    Id_Sistema_Medicion_Redundante INT,\\n    IdComputador_fk INT,\\n    FOREIGN KEY (IdComputador_fk) REFERENCES dbo_v2.fcs_computadores (Id),\\n    FOREIGN KEY (Id_Sisema_Medicion) REFERENCES dbo_v2.med_sistema_medicion (Id),\\n    FOREIGN KEY (Id_Sistema_Medicion_Redundante) REFERENCES dbo_v2.med_sistema_medicion (Id)\\n)'), ('fcs_computadores', 'The table fcs_computadores contain the equipment/flow computers that can be read. The name is found in the Tag column. Each device has a relationship with the firmware.', 'CREATE TABLE IF NOT EXISTS dbo_v2.fcs_computadores (\\n    Id INT PRIMARY KEY,\\n    IP VARCHAR(100),\\n    Puerto INT,\\n    Puerto_Secundario INT,\\n    Id_Modbus INT,\\n    Id_Modbus_Secundario INT,\\n    Tag VARCHAR(100),\\n    Compatibilidad_Modicon VARCHAR(100),\\n    Id_Computador_Redundante INT,\\n    Estado VARCHAR(100),\\n    Master VARCHAR(100),\\n    Usuario VARCHAR(100),\\n    Contraseña VARCHAR(100),\\n    Leer_Tiempo_Real VARCHAR(100),\\n    Leer_Configuracion VARCHAR(100),\\n    Leer_Alarmas VARCHAR(100),\\n    Leer_Eventos VARCHAR(100),\\n    Leer_Historicos VARCHAR(100),\\n    Grupo_Destino VARCHAR(100),\\n    Unidad_Destino VARCHAR(100),\\n    Grupo_Fuente VARCHAR(100),\\n    Unidad_Fuente VARCHAR(100),\\n    Orden_Archivos INT,\\n    Numero_Maximo_Horarios INT,\\n    Numero_Maximo_Diarios INT,\\n    Numero_Maximo_Proves INT,\\n    Numero_Maximo_Batch INT,\\n    Tipo_Protocolo VARCHAR(100),\\n    Tiempo_Proceso_Historico INT,\\n    Tiempo_Proceso_TiempoReal INT,\\n    IdFirmware_fk INT,\\n    IdEquipo_fk INT,\\n    Servidor_OPC VARCHAR(100),\\n)'), ('var_tipo_variable', 'The table var_tipo_variable contains the type/name of variables. For example: diferential pressure, frequency,temperature, static pressure, flow net,flow rate per day,flow NSV,volume net,volume IV,volume NSV (m3).', 'CREATE TABLE IF NOT EXISTS dbo_v2.var_tipo_variable (\\n    Id INT PRIMARY KEY,\\n    Nombre VARCHAR(100),\\n    Reporte_Manual VARCHAR(100),\\n    IdRepManual INT,\\n    Id_Field INT,\\n    Cromatografia VARCHAR(100),\\n    Estado VARCHAR(100)\\n)')]\n"
     ]
    }
   ],
   "source": [
    "r = assistant.get_related_data_tables(['variables', 'static pressure', 'flow computer', 'tag'])\n",
    "print(r)\n"
   ]
  },
  {
   "cell_type": "markdown",
   "metadata": {},
   "source": [
    "#### Clasificamos el requerimiento simple-complejo"
   ]
  },
  {
   "cell_type": "code",
   "execution_count": 6,
   "metadata": {},
   "outputs": [
    {
     "name": "stdout",
     "output_type": "stream",
     "text": [
      "{'analysis': 'This input is out of my knowledge, this type is complex', 'response': 'complex'}\n"
     ]
    }
   ],
   "source": [
    "request_type = assistant.simple_filter(user_request[\"request\"])\n",
    "print(request_type)"
   ]
  },
  {
   "cell_type": "markdown",
   "metadata": {},
   "source": [
    "#### Clasificamos el requerimiento complejo (completo-incompleto)"
   ]
  },
  {
   "cell_type": "code",
   "execution_count": 1,
   "metadata": {},
   "outputs": [
    {
     "ename": "NameError",
     "evalue": "name 'assistant' is not defined",
     "output_type": "error",
     "traceback": [
      "\u001b[1;31m---------------------------------------------------------------------------\u001b[0m",
      "\u001b[1;31mNameError\u001b[0m                                 Traceback (most recent call last)",
      "Cell \u001b[1;32mIn[1], line 1\u001b[0m\n\u001b[1;32m----> 1\u001b[0m request_type \u001b[38;5;241m=\u001b[39m \u001b[43massistant\u001b[49m\u001b[38;5;241m.\u001b[39mcomplex_filter(user_request[\u001b[38;5;124m\"\u001b[39m\u001b[38;5;124mrequest\u001b[39m\u001b[38;5;124m\"\u001b[39m], r)\n\u001b[0;32m      2\u001b[0m \u001b[38;5;28mprint\u001b[39m(request_type)\n",
      "\u001b[1;31mNameError\u001b[0m: name 'assistant' is not defined"
     ]
    }
   ],
   "source": [
    "request_type = assistant.complex_filter(user_request[\"request\"], r)\n",
    "print(request_type)"
   ]
  },
  {
   "cell_type": "code",
   "execution_count": 12,
   "metadata": {},
   "outputs": [
    {
     "name": "stdout",
     "output_type": "stream",
     "text": [
      "\n",
      "        analysis: The request is complete as it specifies the flow computer with Tag FQI-EMED-3135.01-067 and the time period of August 2023.\n",
      "        type: complete\n"
     ]
    }
   ],
   "source": [
    "print(request_type[\"text\"])"
   ]
  }
 ],
 "metadata": {
  "kernelspec": {
   "display_name": "venv",
   "language": "python",
   "name": "python3"
  },
  "language_info": {
   "codemirror_mode": {
    "name": "ipython",
    "version": 3
   },
   "file_extension": ".py",
   "mimetype": "text/x-python",
   "name": "python",
   "nbconvert_exporter": "python",
   "pygments_lexer": "ipython3",
   "version": "3.11.5"
  }
 },
 "nbformat": 4,
 "nbformat_minor": 2
}
