{
 "cells": [
  {
   "cell_type": "code",
   "execution_count": 1,
   "metadata": {},
   "outputs": [],
   "source": [
    "import sys\n",
    "sys.path.append(\"C:\\\\Users\\\\lauth\\\\OneDrive\\\\Desktop\\\\open_ai_assistant_v2\")\n",
    "from src.components.chains.chains import Assistant\n",
    "import pandas as pd\n",
    "\n",
    "assistant = Assistant(conversation_id=\"8af20de4-cd11-41da-9a9d-04762dd91322\")"
   ]
  },
  {
   "cell_type": "markdown",
   "metadata": {},
   "source": [
    "#### Generando un resumen de la conversación"
   ]
  },
  {
   "cell_type": "code",
   "execution_count": 2,
   "metadata": {},
   "outputs": [
    {
     "name": "stdout",
     "output_type": "stream",
     "text": [
      "\n",
      "        The human is asking for the average static pressure of the flow computer with Tag FQI-EMED-3135.01-067 for the months of August 2023.\n"
     ]
    }
   ],
   "source": [
    "assistant.add_user_message(message=\"Dame el promedio de la presion estatica del computador de flujo con tag FQI-EMED-3135.01-067 para los meses de agosto del 2023\")\n",
    "# assistant.add_ai_message(message=\"Aqui tienes la lista de los sistemas de Medicion: Medidor 1a, Medidor 2a, Medidor 3a\")\n",
    "# assistant.add_user_message(message=\"Hola\")\n",
    "# assistant.add_ai_message(message=\"Claro, ¿me puedes proporcionar un identificador del sistema de medición?\")\n",
    "# assistant.add_user_message(message=\"me dices cuales son los ids que existen?\")\n",
    "# assistant.add_user_message(message=\"el Tag es F980-40\")\n",
    "# assistant.add_ai_message(message=\"Por supuesto, ¿que tipo de información requieres?\")\n",
    "# assistant.add_user_message(message=\"Me gustaria saber el promedio de la presion en las fechas de enero y febrero\")\n",
    "# assistant.add_user_message(message=\"Necesito una lista de los sistemas de medicion de gas\")\n",
    "summary = assistant.get_memory_summary()\n",
    "print(summary)"
   ]
  },
  {
   "cell_type": "markdown",
   "metadata": {},
   "source": [
    "#### Generamos el requerimiento"
   ]
  },
  {
   "cell_type": "code",
   "execution_count": 3,
   "metadata": {},
   "outputs": [
    {
     "name": "stdout",
     "output_type": "stream",
     "text": [
      "The human is asking for the average static pressure of the flow computer with Tag FQI-EMED-3135.01-067 for the months of August 2023.\n"
     ]
    }
   ],
   "source": [
    "user_request = assistant.get_request(summary)\n",
    "print(user_request[\"request\"])"
   ]
  },
  {
   "cell_type": "markdown",
   "metadata": {},
   "source": [
    "#### Obtenemos las keywords"
   ]
  },
  {
   "cell_type": "code",
   "execution_count": 4,
   "metadata": {},
   "outputs": [
    {
     "data": {
      "text/plain": [
       "['variables', 'pressure', 'flow computer', 'average', 'month', '2023']"
      ]
     },
     "execution_count": 4,
     "metadata": {},
     "output_type": "execute_result"
    }
   ],
   "source": [
    "kw = assistant.get_keywords_from_requirement(user_request[\"request\"])\n",
    "kw"
   ]
  },
  {
   "cell_type": "markdown",
   "metadata": {},
   "source": [
    "#### Nombre de tablas"
   ]
  },
  {
   "cell_type": "code",
   "execution_count": 5,
   "metadata": {},
   "outputs": [
    {
     "name": "stdout",
     "output_type": "stream",
     "text": [
      "['fcs_computador_medidor', 'var_variable_datos', 'fcs_computadores']\n",
      "['CREATE TABLE IF NOT EXISTS dbo_v2.var_variable_datos (\\n    Fecha DATETIME,\\n    idVariable_fk INT,\\n    idSistemaMedicion_fk INT,\\n    Valor FLOAT,\\n    Valor_String VARCHAR(100),\\n    PRIMARY KEY (Fecha, idVariable_fk, idSistemaMedicion_fk),\\n    FOREIGN KEY (idVariable_fk) REFERENCES dbo_v2.var_tipo_variable (Id),\\n    FOREIGN KEY (idSistemaMedicion_fk) REFERENCES dbo_v2.med_sistema_medicion (Id)\\n)', 'CREATE TABLE IF NOT EXISTS dbo_v2.fcs_computador_medidor (\\n    Id INT PRIMARY KEY,\\n    Codigo_Medidor VARCHAR(100),\\n    Estado VARCHAR(100),\\n    Id_Sisema_Medicion INT,\\n    Id_Sistema_Medicion_Redundante INT,\\n    IdComputador_fk INT,\\n    FOREIGN KEY (IdComputador_fk) REFERENCES dbo_v2.fcs_computadores (Id),\\n    FOREIGN KEY (Id_Sisema_Medicion) REFERENCES dbo_v2.med_sistema_medicion (Id),\\n    FOREIGN KEY (Id_Sistema_Medicion_Redundante) REFERENCES dbo_v2.med_sistema_medicion (Id)\\n)', 'CREATE TABLE IF NOT EXISTS dbo_v2.fcs_computadores (\\n    Id INT PRIMARY KEY,\\n    IP VARCHAR(100),\\n    Puerto INT,\\n    Puerto_Secundario INT,\\n    Id_Modbus INT,\\n    Id_Modbus_Secundario INT,\\n    Tag VARCHAR(100),\\n    Compatibilidad_Modicon VARCHAR(100),\\n    Id_Computador_Redundante INT,\\n    Estado VARCHAR(100),\\n    Master VARCHAR(100),\\n    Usuario VARCHAR(100),\\n    Contraseña VARCHAR(100),\\n    Leer_Tiempo_Real VARCHAR(100),\\n    Leer_Configuracion VARCHAR(100),\\n    Leer_Alarmas VARCHAR(100),\\n    Leer_Eventos VARCHAR(100),\\n    Leer_Historicos VARCHAR(100),\\n    Grupo_Destino VARCHAR(100),\\n    Unidad_Destino VARCHAR(100),\\n    Grupo_Fuente VARCHAR(100),\\n    Unidad_Fuente VARCHAR(100),\\n    Orden_Archivos INT,\\n    Numero_Maximo_Horarios INT,\\n    Numero_Maximo_Diarios INT,\\n    Numero_Maximo_Proves INT,\\n    Numero_Maximo_Batch INT,\\n    Tipo_Protocolo VARCHAR(100),\\n    Tiempo_Proceso_Historico INT,\\n    Tiempo_Proceso_TiempoReal INT,\\n    IdFirmware_fk INT,\\n    IdEquipo_fk INT,\\n    Servidor_OPC VARCHAR(100),\\n)']\n"
     ]
    }
   ],
   "source": [
    "r = assistant.get_table_names(kw)\n",
    "print(r[\"tables\"])\n",
    "print(r[\"ddl\"])\n"
   ]
  },
  {
   "cell_type": "markdown",
   "metadata": {},
   "source": [
    "#### Clasificamos el requerimiento simple-complejo"
   ]
  },
  {
   "cell_type": "code",
   "execution_count": 6,
   "metadata": {},
   "outputs": [
    {
     "name": "stdout",
     "output_type": "stream",
     "text": [
      "{'analysis': 'This input is out of my knowledge, this type is complex', 'response': 'complex'}\n"
     ]
    }
   ],
   "source": [
    "request_type = assistant.simple_complex_filter(user_request[\"request\"])\n",
    "print(request_type)"
   ]
  },
  {
   "cell_type": "markdown",
   "metadata": {},
   "source": [
    "#### Clasificamos el requerimiento complejo (completo-incompleto)"
   ]
  },
  {
   "cell_type": "code",
   "execution_count": 9,
   "metadata": {},
   "outputs": [
    {
     "name": "stdout",
     "output_type": "stream",
     "text": [
      "\n",
      "        Your are an assistant and your work is to classify the input to complete or incomplete.\n",
      "        \n",
      "        This request will query the next SQL DDL's\n",
      "        DDL's:\n",
      "        CREATE TABLE IF NOT EXISTS dbo_v2.var_variable_datos (\n",
      "    Fecha DATETIME,\n",
      "    idVariable_fk INT,\n",
      "    idSistemaMedicion_fk INT,\n",
      "    Valor FLOAT,\n",
      "    Valor_String VARCHAR(100),\n",
      "    PRIMARY KEY (Fecha, idVariable_fk, idSistemaMedicion_fk),\n",
      "    FOREIGN KEY (idVariable_fk) REFERENCES dbo_v2.var_tipo_variable (Id),\n",
      "    FOREIGN KEY (idSistemaMedicion_fk) REFERENCES dbo_v2.med_sistema_medicion (Id)\n",
      ")\n",
      "\n",
      "CREATE TABLE IF NOT EXISTS dbo_v2.fcs_computador_medidor (\n",
      "    Id INT PRIMARY KEY,\n",
      "    Codigo_Medidor VARCHAR(100),\n",
      "    Estado VARCHAR(100),\n",
      "    Id_Sisema_Medicion INT,\n",
      "    Id_Sistema_Medicion_Redundante INT,\n",
      "    IdComputador_fk INT,\n",
      "    FOREIGN KEY (IdComputador_fk) REFERENCES dbo_v2.fcs_computadores (Id),\n",
      "    FOREIGN KEY (Id_Sisema_Medicion) REFERENCES dbo_v2.med_sistema_medicion (Id),\n",
      "    FOREIGN KEY (Id_Sistema_Medicion_Redundante) REFERENCES dbo_v2.med_sistema_medicion (Id)\n",
      ")\n",
      "\n",
      "CREATE TABLE IF NOT EXISTS dbo_v2.fcs_computadores (\n",
      "    Id INT PRIMARY KEY,\n",
      "    IP VARCHAR(100),\n",
      "    Puerto INT,\n",
      "    Puerto_Secundario INT,\n",
      "    Id_Modbus INT,\n",
      "    Id_Modbus_Secundario INT,\n",
      "    Tag VARCHAR(100),\n",
      "    Compatibilidad_Modicon VARCHAR(100),\n",
      "    Id_Computador_Redundante INT,\n",
      "    Estado VARCHAR(100),\n",
      "    Master VARCHAR(100),\n",
      "    Usuario VARCHAR(100),\n",
      "    Contraseña VARCHAR(100),\n",
      "    Leer_Tiempo_Real VARCHAR(100),\n",
      "    Leer_Configuracion VARCHAR(100),\n",
      "    Leer_Alarmas VARCHAR(100),\n",
      "    Leer_Eventos VARCHAR(100),\n",
      "    Leer_Historicos VARCHAR(100),\n",
      "    Grupo_Destino VARCHAR(100),\n",
      "    Unidad_Destino VARCHAR(100),\n",
      "    Grupo_Fuente VARCHAR(100),\n",
      "    Unidad_Fuente VARCHAR(100),\n",
      "    Orden_Archivos INT,\n",
      "    Numero_Maximo_Horarios INT,\n",
      "    Numero_Maximo_Diarios INT,\n",
      "    Numero_Maximo_Proves INT,\n",
      "    Numero_Maximo_Batch INT,\n",
      "    Tipo_Protocolo VARCHAR(100),\n",
      "    Tiempo_Proceso_Historico INT,\n",
      "    Tiempo_Proceso_TiempoReal INT,\n",
      "    IdFirmware_fk INT,\n",
      "    IdEquipo_fk INT,\n",
      "    Servidor_OPC VARCHAR(100),\n",
      ")\n",
      "\n",
      "\n",
      "        END OF DDL's\n",
      "        \n",
      "        If request needs extra parameters to be answered mark it as incomplete.\n",
      "        Remember this DDL's are the tables that will be queried.\n",
      "        \n",
      "        Your response format should be as follows:\n",
      "        FORMAT:\n",
      "        request: actual user request\n",
      "        analysis: A brief analysis if the requirement is incomplete or complete for the db.\n",
      "        type: complete/incomplete\n",
      "        END OF FORMAT\n",
      "        \n",
      "        Begin!\n",
      "        request: '''{user_request}'''\n",
      "    \n",
      "{'user_request': 'The human is asking for the average static pressure of the flow computer with Tag FQI-EMED-3135.01-067 for the months of August 2023.', 'text': '\\n        analysis: The requirement is incomplete for the db because it does not specify which table to query for the average static pressure of the flow computer with Tag FQI-EMED-3135.01-067 for the months of August 2023.\\n        type: incomplete'}\n"
     ]
    }
   ],
   "source": [
    "request_type = assistant.complete_incomplete_filter(user_request[\"request\"], r[\"ddl\"])\n",
    "print(request_type)"
   ]
  },
  {
   "cell_type": "code",
   "execution_count": 10,
   "metadata": {},
   "outputs": [
    {
     "name": "stdout",
     "output_type": "stream",
     "text": [
      "\n",
      "        analysis: The requirement is incomplete for the db because it does not specify which table to query for the average static pressure of the flow computer with Tag FQI-EMED-3135.01-067 for the months of August 2023.\n",
      "        type: incomplete\n"
     ]
    }
   ],
   "source": [
    "print(request_type[\"text\"])"
   ]
  }
 ],
 "metadata": {
  "kernelspec": {
   "display_name": "venv",
   "language": "python",
   "name": "python3"
  },
  "language_info": {
   "codemirror_mode": {
    "name": "ipython",
    "version": 3
   },
   "file_extension": ".py",
   "mimetype": "text/x-python",
   "name": "python",
   "nbconvert_exporter": "python",
   "pygments_lexer": "ipython3",
   "version": "3.11.5"
  }
 },
 "nbformat": 4,
 "nbformat_minor": 2
}
