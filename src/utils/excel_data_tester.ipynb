{
 "cells": [
  {
   "cell_type": "code",
   "execution_count": null,
   "metadata": {},
   "outputs": [],
   "source": [
    "import sys\n",
    "\n",
    "sys.path.append(\"C:\\\\Users\\\\lauth\\\\OneDrive\\\\Desktop\\\\open_ai_assistant_v2\")\n",
    "\n",
    "from src.utils.excel_data_reader import (\n",
    "    read_excel_dictionary,\n",
    "    read_keywords_dictionary,\n",
    "    read_summaries_dictionary,\n",
    "    read_classify_dictionary,\n",
    ")"
   ]
  },
  {
   "cell_type": "code",
   "execution_count": null,
   "metadata": {},
   "outputs": [],
   "source": [
    "archivo_excel = \"../assets/Diccionario_datos.xlsx\"\n",
    "columnas= [\"Tabla\", \"Palabras clave\"]\n",
    "\n",
    "data = read_excel_dictionary(archivo_excel, columnas)\n",
    "data"
   ]
  },
  {
   "cell_type": "code",
   "execution_count": null,
   "metadata": {},
   "outputs": [],
   "source": [
    "archivo_excel = \"../assets/Keywords_datos.xlsx\"\n",
    "columnas= [\"Request\", \"Keywords\"]\n",
    "\n",
    "kw_data = read_keywords_dictionary(archivo_excel, columnas)\n",
    "kw_data"
   ]
  },
  {
   "cell_type": "code",
   "execution_count": null,
   "metadata": {},
   "outputs": [],
   "source": [
    "archivo_excel = \"../assets/Summary_datos.xlsx\"\n",
    "columnas= [\"summary\", \"request\"]\n",
    "\n",
    "sum_data = read_summaries_dictionary(archivo_excel, columnas)\n",
    "sum_data"
   ]
  },
  {
   "cell_type": "code",
   "execution_count": null,
   "metadata": {},
   "outputs": [],
   "source": [
    "archivo_excel = \"../assets/classifier_context.xlsx\"\n",
    "columnas= [\"input\", \"analysis\", \"response\"]\n",
    "\n",
    "sum_data = read_classify_dictionary(archivo_excel, columnas)\n",
    "sum_data"
   ]
  }
 ],
 "metadata": {
  "kernelspec": {
   "display_name": "venv",
   "language": "python",
   "name": "python3"
  },
  "language_info": {
   "codemirror_mode": {
    "name": "ipython",
    "version": 3
   },
   "file_extension": ".py",
   "mimetype": "text/x-python",
   "name": "python",
   "nbconvert_exporter": "python",
   "pygments_lexer": "ipython3",
   "version": "3.11.5"
  }
 },
 "nbformat": 4,
 "nbformat_minor": 2
}
