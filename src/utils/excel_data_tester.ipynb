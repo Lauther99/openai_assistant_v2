{
 "cells": [
  {
   "cell_type": "code",
   "execution_count": 1,
   "metadata": {},
   "outputs": [],
   "source": [
    "import sys\n",
    "\n",
    "sys.path.append(\"C:\\\\Users\\\\lauth\\\\OneDrive\\\\Desktop\\\\open_ai_assistant_v2\")\n",
    "\n",
    "from src.utils.excel_data_reader import (\n",
    "    read_excel_dictionary,\n",
    "    read_keywords_dictionary,\n",
    "    read_summaries_dictionary,\n",
    "    read_classify_dictionary,\n",
    ")"
   ]
  },
  {
   "cell_type": "code",
   "execution_count": 4,
   "metadata": {},
   "outputs": [
    {
     "data": {
      "text/plain": [
       "[{'table_name': 'pla_plataforma',\n",
       "  'keywords': ['platform'],\n",
       "  'ddl': 'The table pla_plataforma contains information of all installations registered in the database.',\n",
       "  'description': 'CREATE TABLE IF NOT EXISTS dbo_v2.pla_plataforma(\\n\\tId INT PRIMARY KEY,\\n\\tIdTipoPlataforma_fk INT ,\\n\\tIdCliente_fk INT ,\\n\\tNombre VARCHAR(MAX) ,\\n\\tCodigo VARCHAR(10) NULL,\\n\\tCNPJ VARCHAR(MAX) NULL,\\n\\tAbreviatura VARCHAR(50) NULL,\\n\\tEsVisible BIT ,\\n\\tEstado VARCHAR(10) )'},\n",
       " {'table_name': 'flu_tipo_fluido',\n",
       "  'keywords': ['fluid'],\n",
       "  'ddl': 'The table flu_tipo_fluido contains the types of fluids used in the application. For example: Gás Natural, Óleo Cru y Água.',\n",
       "  'description': 'CREATE TABLE IF NOT EXISTS dbo_v2.flu_tipo_fluido (\\n    Id INT PRIMARY KEY,\\n    Nombre VARCHAR(100),\\n    Abreviatura VARCHAR(100),\\n    Estado VARCHAR(100),\\n    usu_creacion VARCHAR(100),\\n    fec_creacion DATETIME,\\n    usu_modificacion VARCHAR(100),\\n    fec_modificacion DATETIME\\n)'},\n",
       " {'table_name': 'med_tipo_medicion',\n",
       "  'keywords': ['measurement types'],\n",
       "  'ddl': 'The table med_tipo_medicion contains the measurement types of measurement systems. For explample: Fiscal, Apropriação, Operacional, Custódia y Poços de Produção.',\n",
       "  'description': 'CREATE TABLE IF NOT EXISTS  dbo_v2.med_tipo_medicion(\\n\\tId INT PRIMARY KEY,\\n\\tNombre VARCHAR(150) ,\\n\\tNombreArbol VARCHAR(150),\\n\\tEstado VARCHAR(10) )'},\n",
       " {'table_name': 'med_sistema_medicion',\n",
       "  'keywords': ['measurement system'],\n",
       "  'ddl': 'The table med_sistema_medicion It contains the measurement systems, they can be identified by the Name or Tag. Here is able to ask for the type of fluid, the type of measurement of the measurement system and the installation to which it belongs.  Also is able to ask for SubTypeFluid column you can obtain if the measurement system is Differential Gas = DIF or linear gas = LIN. Also could ask the status of a measurement system is INA or ACT.',\n",
       "  'description': 'CREATE TABLE IF NOT EXISTS dbo_v2.med_sistema_medicion (\\n    Id INT PRIMARY KEY,\\n    IdPlataforma_fk INT,\\n    Nombre VARCHAR(100),\\n    Tag VARCHAR(100),\\n    Estado VARCHAR(100),\\n    FechaInicialMuestreo DATETIME,\\n    IdCliente INT,\\n    IdTipoFluido_fk INT,\\n    SubTipoFluido VARCHAR(100),\\n    IdAplicabilidad_fk INT,\\n    VarCromatografia VARCHAR(100),\\n    Prover VARCHAR(100),\\n    IsDisponible VARCHAR(100),\\n    IdMeteringStation_fk INT,\\n    IdClase_fk INT,\\n    SamplingPointTag VARCHAR(100),\\n    LimiteEstadisticoInicial INT,\\n    PROFACCODE VARCHAR(100),\\n    SOURCE VARCHAR(100),\\n    RefPid VARCHAR(100),\\n    NumeroLineaProceso VARCHAR(100),\\n    Localizacion VARCHAR(100),\\n    NominalLineSize INT,\\n    IdSchedule_fk INT,\\n    IdRating_fk INT,\\n    ClasificacionArea VARCHAR(100),\\n    Servicio VARCHAR(100),\\n    LimiteEstadistico_Default INT,\\n    LimiteEstadistico_Manual INT,\\n    IdSamplingPoint_fk INT,\\n    IsVisible VARCHAR(100),\\n    Uso VARCHAR(100),\\n    IdArea_fk INT,\\n    IdDeBaseOperacional_fk INT,\\n    EsProvador VARCHAR(100),\\n    Tramo VARCHAR(100),\\n    IdDelSistemaAsociado_fk INT,\\n)'},\n",
       " {'table_name': 'fcs_tipo_dato',\n",
       "  'keywords': ['data types'],\n",
       "  'ddl': 'The table fcs_tipo_dato contains the types of data used to read the devices. These can be of type FLOAT, ASCII, Double.',\n",
       "  'description': 'CREATE TABLE IF NOT EXISTS  dbo_v2.fcs_tipo_dato(\\n\\tId INT PRIMARY KEY,\\n\\tTipo VARCHAR(100)  ,\\n\\tBytes INT  ,\\n\\tEstado VARCHAR(5) )'},\n",
       " {'table_name': 'fcs_tipos_punto',\n",
       "  'keywords': ['point types'],\n",
       "  'ddl': 'The table fcs_tipos_punto contains the structure of the data that can be read by an ROC type device.',\n",
       "  'description': 'CREATE TABLE IF NOT EXISTS dbo_v2.fcs_tipos_punto(\\n\\tId INT PRIMARY KEY,\\n\\tTipo_Punto INT ,\\n\\tParametro INT ,\\n\\tAcceso VARCHAR(50) ,\\n\\tDescripcion VARCHAR(MAX) ,\\n\\tTipo_Dato VARCHAR(50) ,\\n\\tNumero_Bytes INT )'},\n",
       " {'table_name': 'fcs_tipo_computador',\n",
       "  'keywords': ['computer type'],\n",
       "  'ddl': 'The table fcs_tipo_computador contains the different types/models/brands of equipment that can be read. Types can be OMNI, KHRONE, ROC, FC302.',\n",
       "  'description': 'CREATE TABLE IF NOT EXISTS dbo_v2.fcs_tipo_computador(\\n\\tId INT PRIMARY KEY ,\\n\\tNombre VARCHAR(50) ,\\n\\tEstado VARCHAR(10) )'},\n",
       " {'table_name': 'fcs_firmware',\n",
       "  'keywords': ['firmware'],\n",
       "  'ddl': 'The table fcs_firmware contains firmware/configuration/revision types used by the devices that can be read. A device can have 1 or more types of configuration or firmware.',\n",
       "  'description': 'CREATE TABLE IF NOT EXISTS dbo_v2.fcs_firmware(\\n\\tId INT PRIMARY KEY ,\\n\\tFirmware VARCHAR(100) ,\\n\\tEstado VARCHAR(10) ,\\t\\n\\tIdTipo_Computador_fk INT ,\\n        FOREIGN KEY (IdTipo_Computador_fk) \\nREFERENCES dbo_v2.fcs_tipo_computador (Id))'},\n",
       " {'table_name': 'fcs_mapa_modbus',\n",
       "  'keywords': ['modus map'],\n",
       "  'ddl': 'The table fcs_mapa_modbus contains the data structure that can be read from a computer. There are relations to other tables: fcs_tipo_dato to obtain the type of the data, fcs_firmware to obtain which firmware it belongs to.',\n",
       "  'description': 'CREATE TABLE IF NOT EXISTS dbo_v2.fcs_mapa_modbus(\\n\\tId INT PRIMARY KEY,\\n\\tTag VARCHAR(MAX) ,\\n\\tTag_Index INT ,\\n\\tTag_OPC VARCHAR(MAX) ,\\n\\tRegistro INT ,\\n\\tPunto INT ,\\n\\tNumero_Logico INT ,\\n\\tFuncion_Modbus INT ,\\n\\tIdTipoDato_fk INT ,\\n\\tIdTipos_Punto_fk INT ,\\n\\tIdFirmware_fk INT,\\n        FOREIGN KEY (IdFirmware_fk) REFERENCES dbo_v2.fcs_firmware (Id),\\n        FOREIGN KEY (IdTipoDato_fk) REFERENCES dbo_v2.fcs_tipo_dato (Id),\\n        FOREIGN KEY (IdTipos_Punto_fk) REFERENCES dbo_v2.fcs_tipos_punto (Id) )'},\n",
       " {'table_name': 'fcs_computadores',\n",
       "  'keywords': ['flow computer'],\n",
       "  'ddl': 'The table fcs_computadores contain the equipment/flow computers that can be read. The name is found in the Tag column. Each device has a relationship with the firmware.',\n",
       "  'description': 'CREATE TABLE IF NOT EXISTS dbo_v2.fcs_computadores (\\n    Id INT PRIMARY KEY,\\n    IP VARCHAR(100),\\n    Puerto INT,\\n    Puerto_Secundario INT,\\n    Id_Modbus INT,\\n    Id_Modbus_Secundario INT,\\n    Tag VARCHAR(100),\\n    Compatibilidad_Modicon VARCHAR(100),\\n    Id_Computador_Redundante INT,\\n    Estado VARCHAR(100),\\n    Master VARCHAR(100),\\n    Usuario VARCHAR(100),\\n    Contraseña VARCHAR(100),\\n    Leer_Tiempo_Real VARCHAR(100),\\n    Leer_Configuracion VARCHAR(100),\\n    Leer_Alarmas VARCHAR(100),\\n    Leer_Eventos VARCHAR(100),\\n    Leer_Historicos VARCHAR(100),\\n    Grupo_Destino VARCHAR(100),\\n    Unidad_Destino VARCHAR(100),\\n    Grupo_Fuente VARCHAR(100),\\n    Unidad_Fuente VARCHAR(100),\\n    Orden_Archivos INT,\\n    Numero_Maximo_Horarios INT,\\n    Numero_Maximo_Diarios INT,\\n    Numero_Maximo_Proves INT,\\n    Numero_Maximo_Batch INT,\\n    Tipo_Protocolo VARCHAR(100),\\n    Tiempo_Proceso_Historico INT,\\n    Tiempo_Proceso_TiempoReal INT,\\n    IdFirmware_fk INT,\\n    IdEquipo_fk INT,\\n    Servidor_OPC VARCHAR(100),\\n)'},\n",
       " {'table_name': 'fcs_computador_medidor',\n",
       "  'keywords': ['flow computer', 'measurement system'],\n",
       "  'ddl': 'The table fcs_computador_medidor is table that connect measurement systems with the equipment/flow computes, also contains meters for each one. The meter number is found in the column meter_code, the measurement system that is used by the meter is found in the column id_system_measurement_fk and the equipment/flow computer to which it is a part is found in the column idcomputer_fk. This relation is in both sides.',\n",
       "  'description': 'CREATE TABLE IF NOT EXISTS dbo_v2.fcs_computador_medidor (\\n    Id INT PRIMARY KEY,\\n    Codigo_Medidor VARCHAR(100),\\n    Estado VARCHAR(100),\\n    Id_Sisema_Medicion INT,\\n    Id_Sistema_Medicion_Redundante INT,\\n    IdComputador_fk INT,\\n    FOREIGN KEY (IdComputador_fk) REFERENCES dbo_v2.fcs_computadores (Id),\\n    FOREIGN KEY (Id_Sisema_Medicion) REFERENCES dbo_v2.med_sistema_medicion (Id),\\n    FOREIGN KEY (Id_Sistema_Medicion_Redundante) REFERENCES dbo_v2.med_sistema_medicion (Id)\\n)'},\n",
       " {'table_name': 'var_tipo_variable',\n",
       "  'keywords': ['variables'],\n",
       "  'ddl': 'The table var_tipo_variable contains the type/name of variables. For example: diferential pressure, frequency,temperature, static pressure, flow net,flow rate per day,flow NSV,volume net,volume IV,volume NSV (m3).',\n",
       "  'description': 'CREATE TABLE IF NOT EXISTS dbo_v2.var_tipo_variable (\\n    Id INT PRIMARY KEY,\\n    Nombre VARCHAR(100),\\n    Reporte_Manual VARCHAR(100),\\n    IdRepManual INT,\\n    Id_Field INT,\\n    Cromatografia VARCHAR(100),\\n    Estado VARCHAR(100)\\n)'},\n",
       " {'table_name': 'var_variable_datos',\n",
       "  'keywords': ['variables'],\n",
       "  'ddl': \"The table var_variable_datos contains the values readed for variables in var_tipo_variable for each measurement system. They are classified by the measurement system through the idSistemaMedicion_fk column and the variable through the idVariable_fk column.'\",\n",
       "  'description': 'CREATE TABLE IF NOT EXISTS dbo_v2.var_variable_datos (\\n    Fecha DATETIME,\\n    idVariable_fk INT,\\n    idSistemaMedicion_fk INT,\\n    Valor FLOAT,\\n    Valor_String VARCHAR(100),\\n    PRIMARY KEY (Fecha, idVariable_fk, idSistemaMedicion_fk),\\n    FOREIGN KEY (idVariable_fk) REFERENCES dbo_v2.var_tipo_variable (Id),\\n    FOREIGN KEY (idSistemaMedicion_fk) REFERENCES dbo_v2.med_sistema_medicion (Id)\\n)'}]"
      ]
     },
     "execution_count": 4,
     "metadata": {},
     "output_type": "execute_result"
    }
   ],
   "source": [
    "archivo_excel = \"../assets/Diccionario_datos.xlsx\"\n",
    "\n",
    "data = read_excel_dictionary(archivo_excel)\n",
    "data"
   ]
  },
  {
   "cell_type": "code",
   "execution_count": null,
   "metadata": {},
   "outputs": [],
   "source": [
    "archivo_excel = \"../assets/Keywords_datos.xlsx\"\n",
    "columnas= [\"Request\", \"Keywords\"]\n",
    "\n",
    "kw_data = read_keywords_dictionary(archivo_excel, columnas)\n",
    "kw_data"
   ]
  },
  {
   "cell_type": "code",
   "execution_count": null,
   "metadata": {},
   "outputs": [],
   "source": [
    "archivo_excel = \"../assets/Summary_datos.xlsx\"\n",
    "columnas= [\"summary\", \"request\"]\n",
    "\n",
    "sum_data = read_summaries_dictionary(archivo_excel, columnas)\n",
    "sum_data"
   ]
  },
  {
   "cell_type": "code",
   "execution_count": null,
   "metadata": {},
   "outputs": [],
   "source": [
    "archivo_excel = \"../assets/classifier_context.xlsx\"\n",
    "columnas= [\"input\", \"analysis\", \"response\"]\n",
    "\n",
    "sum_data = read_classify_dictionary(archivo_excel, columnas)\n",
    "sum_data"
   ]
  }
 ],
 "metadata": {
  "kernelspec": {
   "display_name": "venv",
   "language": "python",
   "name": "python3"
  },
  "language_info": {
   "codemirror_mode": {
    "name": "ipython",
    "version": 3
   },
   "file_extension": ".py",
   "mimetype": "text/x-python",
   "name": "python",
   "nbconvert_exporter": "python",
   "pygments_lexer": "ipython3",
   "version": "3.11.5"
  }
 },
 "nbformat": 4,
 "nbformat_minor": 2
}
