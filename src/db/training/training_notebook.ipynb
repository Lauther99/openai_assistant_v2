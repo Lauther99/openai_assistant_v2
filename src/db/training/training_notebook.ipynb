{
 "cells": [
  {
   "cell_type": "code",
   "execution_count": 1,
   "metadata": {},
   "outputs": [],
   "source": [
    "import sys\n",
    "\n",
    "sys.path.append(\"C:\\\\Users\\\\lauth\\\\OneDrive\\\\Desktop\\\\open_ai_assistant_v2\")\n",
    "from src.db.training.training_config import TrainingAssistant\n",
    "from src.utils.excel_data_reader import (\n",
    "    read_excel_dictionary,\n",
    "    read_keywords_dictionary,\n",
    "    read_summaries_dictionary,\n",
    "    read_classify_dictionary,\n",
    ")\n",
    "\n",
    "tr_assistant = TrainingAssistant()"
   ]
  },
  {
   "cell_type": "markdown",
   "metadata": {},
   "source": [
    "#### Obteniendo datos para la colección de Context"
   ]
  },
  {
   "cell_type": "code",
   "execution_count": 2,
   "metadata": {},
   "outputs": [],
   "source": [
    "archivo_excel = \"../../assets/Diccionario_datos.xlsx\"\n",
    "columnas = [\"Tabla\", \"Palabras clave\", \"Codigo\"]\n",
    "\n",
    "# Leyendo el diccionario del excel\n",
    "excel_data = read_excel_dictionary(archivo_excel, columnas)\n",
    "\n",
    "\n",
    "def process_excel_data():\n",
    "    res = []\n",
    "    for index, diccionario in enumerate(excel_data):\n",
    "        embeddings_arr: list[list[float]] = []\n",
    "        for index, kw in enumerate(diccionario[\"keywords\"]):\n",
    "            new_embedding: list[float] = tr_assistant.get_embeddings(kw)\n",
    "            embeddings_arr.append(new_embedding)\n",
    "        res.append(embeddings_arr)\n",
    "    return res\n",
    "\n",
    "# Arreglar la estructura de las metadatas y ademos poner una descripcion de la tabla para enviarla en el prompt complex_classifier_chain_template\n",
    "ctx_embeddings = [tr_assistant.sum_embeddings(emb) for emb in process_excel_data()]\n",
    "ctx_metadatas = [\n",
    "    {\"table_name\": diccionario[\"table_name\"], \"ddl\": diccionario[\"ddl\"]}\n",
    "    for diccionario in excel_data\n",
    "]\n",
    "ctx_ids = [f\"id_ctx_col_{index}\" for index, diccionario in enumerate(excel_data)]"
   ]
  },
  {
   "cell_type": "code",
   "execution_count": 10,
   "metadata": {},
   "outputs": [
    {
     "data": {
      "text/plain": [
       "{'table_name': 'pla_plataforma',\n",
       " 'ddl': 'CREATE TABLE IF NOT EXISTS [dbo_v2].[pla_plataforma](\\n\\t[Id] [INT] IDENTITY(1,1) NOT NULL,\\n\\t[IdTipoPlataforma_fk] [INT] NOT NULL,\\n\\t[IdCliente_fk] [INT] NOT NULL,\\n\\t[Nombre] [VARCHAR](MAX) NOT NULL,\\n\\t[Codigo] [VARCHAR](10) NULL,\\n\\t[CNPJ] [VARCHAR](MAX) NULL,\\n\\t[Abreviatura] [VARCHAR](50) NULL,\\n\\t[EsVisible] [BIT] NOT NULL,\\n\\t[Estado] [VARCHAR](10) NOT NULL)'}"
      ]
     },
     "execution_count": 10,
     "metadata": {},
     "output_type": "execute_result"
    }
   ],
   "source": [
    "ctx_metadatas[0]"
   ]
  },
  {
   "cell_type": "markdown",
   "metadata": {},
   "source": [
    "#### Obteniendo datos para la colección de Keywords"
   ]
  },
  {
   "cell_type": "code",
   "execution_count": 3,
   "metadata": {},
   "outputs": [],
   "source": [
    "archivo_excel = \"../../assets/Keywords_datos.xlsx\"\n",
    "columnas = [\"Request\", \"Keywords\"]\n",
    "\n",
    "# Leyendo el diccionario del excel\n",
    "excel_data = read_keywords_dictionary(archivo_excel, columnas)\n",
    "\n",
    "kw_texts = [diccionario[\"request\"] for diccionario in excel_data]\n",
    "kw_metadatas = [{\"keywords\": diccionario[\"keywords\"]} for diccionario in excel_data]\n",
    "kw_ids = [f\"id_kw_col_{index}\" for index, diccionario in enumerate(excel_data)]"
   ]
  },
  {
   "cell_type": "markdown",
   "metadata": {},
   "source": [
    "#### Obteniendo datos para la colección de Summaries"
   ]
  },
  {
   "cell_type": "code",
   "execution_count": 4,
   "metadata": {},
   "outputs": [],
   "source": [
    "archivo_excel = \"../../assets/Summary_datos.xlsx\"\n",
    "columnas = [\"summary\", \"request\"]\n",
    "\n",
    "# Leyendo el diccionario del excel\n",
    "excel_data = read_summaries_dictionary(archivo_excel, columnas)\n",
    "\n",
    "sum_texts = [diccionario[\"summary\"] for diccionario in excel_data]\n",
    "sum_metadatas = [{\"request\": diccionario[\"request\"]} for diccionario in excel_data]\n",
    "sum_ids = [f\"id_sum_col_{index}\" for index, diccionario in enumerate(excel_data)]"
   ]
  },
  {
   "cell_type": "markdown",
   "metadata": {},
   "source": [
    "#### Obteniendo datos para la colección de clasificación"
   ]
  },
  {
   "cell_type": "code",
   "execution_count": 5,
   "metadata": {},
   "outputs": [],
   "source": [
    "archivo_excel = \"../../assets/classifier_context.xlsx\"\n",
    "columnas = [\"input\", \"analysis\", \"response\"]\n",
    "\n",
    "# Leyendo el diccionario del excel\n",
    "excel_data = read_classify_dictionary(archivo_excel, columnas)\n",
    "\n",
    "cls_texts = [diccionario[\"input\"] for diccionario in excel_data]\n",
    "cls_metadatas = [\n",
    "    {\n",
    "        \"input\": diccionario[\"input\"],\n",
    "        \"analysis\": diccionario[\"analysis\"],\n",
    "        \"response\": diccionario[\"response\"],\n",
    "    }\n",
    "    for diccionario in excel_data\n",
    "]\n",
    "cls_ids = [f\"id_sum_col_{index}\" for index, diccionario in enumerate(excel_data)]"
   ]
  },
  {
   "cell_type": "markdown",
   "metadata": {},
   "source": [
    "#### Alimentando las colecciones"
   ]
  },
  {
   "cell_type": "code",
   "execution_count": 7,
   "metadata": {},
   "outputs": [],
   "source": [
    "tr_assistant._init_collections()\n",
    "\n",
    "# Coleccion de Contexto\n",
    "ctx_collection_name = tr_assistant.collection_names[\"CONTEXT_COLLECTION\"]\n",
    "# Coleccion de keywords\n",
    "kw_collection_name = tr_assistant.collection_names[\"KEYWORDS_COLLECTION\"]\n",
    "# Coleccion de Summary\n",
    "sum_collection_name = tr_assistant.collection_names[\"SUMMARY_COLLECTION\"]\n",
    "# Coleccion de Classifier\n",
    "cls_collection_name = tr_assistant.collection_names[\"CLASSIFIER_COLLECTION\"]\n",
    "\n",
    "# Coleccion de Contexto\n",
    "tr_assistant.train_with_chroma(\n",
    "    collection_name=ctx_collection_name,\n",
    "    embeddings=ctx_embeddings,\n",
    "    ids=ctx_ids,\n",
    "    metadatas=ctx_metadatas,\n",
    ")\n",
    "# Coleccion de keywords\n",
    "tr_assistant.train_collection_with_langchain(\n",
    "    collection_name=kw_collection_name,\n",
    "    texts=kw_texts,\n",
    "    metadatas=kw_metadatas,\n",
    ")\n",
    "# Coleccion de Summary\n",
    "tr_assistant.train_collection_with_langchain(\n",
    "    collection_name=sum_collection_name,\n",
    "    texts=sum_texts,\n",
    "    metadatas=sum_metadatas,\n",
    ")\n",
    "# Coleccion de Classifier\n",
    "tr_assistant.train_collection_with_langchain(\n",
    "    collection_name=cls_collection_name,\n",
    "    texts=cls_texts,\n",
    "    metadatas=cls_metadatas,\n",
    ")"
   ]
  },
  {
   "cell_type": "code",
   "execution_count": 8,
   "metadata": {},
   "outputs": [
    {
     "name": "stdout",
     "output_type": "stream",
     "text": [
      "classifier_collection: 12 vectores\n",
      "summary_collection: 8 vectores\n",
      "keywords_collection: 6 vectores\n",
      "context_collection: 13 vectores\n"
     ]
    }
   ],
   "source": [
    "from langchain_community.vectorstores.chroma import Chroma\n",
    "\n",
    "\n",
    "def counting_vectors(collection_names: list[str]):\n",
    "    for name in collection_names:\n",
    "        db = Chroma(\n",
    "            embedding_function=tr_assistant.chromadb_embeddings_function,\n",
    "            persist_directory=tr_assistant.chromadb_directory,\n",
    "            collection_name=name,\n",
    "        )\n",
    "        count = db._collection.count()\n",
    "        res = f\"{name}: {count} vectores\"\n",
    "        print(res)\n",
    "\n",
    "\n",
    "counting_vectors(\n",
    "    [cls_collection_name, sum_collection_name, kw_collection_name, ctx_collection_name]\n",
    ")"
   ]
  }
 ],
 "metadata": {
  "kernelspec": {
   "display_name": "venv",
   "language": "python",
   "name": "python3"
  },
  "language_info": {
   "codemirror_mode": {
    "name": "ipython",
    "version": 3
   },
   "file_extension": ".py",
   "mimetype": "text/x-python",
   "name": "python",
   "nbconvert_exporter": "python",
   "pygments_lexer": "ipython3",
   "version": "3.11.5"
  }
 },
 "nbformat": 4,
 "nbformat_minor": 2
}
