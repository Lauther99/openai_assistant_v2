{
 "cells": [
  {
   "cell_type": "code",
   "execution_count": 1,
   "metadata": {},
   "outputs": [],
   "source": [
    "import sys\n",
    "\n",
    "sys.path.append(\"C:\\\\Users\\\\lauth\\\\OneDrive\\\\Desktop\\\\open_ai_assistant_v2\")\n",
    "\n",
    "from src.tools.vanna.vanna_tool import VannaTool\n",
    "\n",
    "vn = VannaTool()"
   ]
  },
  {
   "cell_type": "code",
   "execution_count": 2,
   "metadata": {},
   "outputs": [],
   "source": [
    "from src.utils.excel_data_reader import get_excel_data\n",
    "\n",
    "archivo_excel = \"../../assets/Diccionario_datos.xlsx\"\n",
    "columnas_hoja_2 = [\"ddl\", \"about_variables\", \"about_database\", \"questions\", \"answers\"]\n",
    "data = get_excel_data(archivo_excel, columnas_hoja_2, \"Vanna_info\")"
   ]
  },
  {
   "cell_type": "code",
   "execution_count": 4,
   "metadata": {},
   "outputs": [],
   "source": [
    "# Para alimentar la db\n",
    "\n",
    "# for ddl in data[\"ddl\"]:\n",
    "#     vn.feed_ddl(ddl=ddl)\n",
    "\n",
    "# for documentation in data[\"about_variables\"]:\n",
    "#     vn.feed_documentation(documentation=documentation)\n",
    "\n",
    "# for documentation in data[\"about_database\"]:\n",
    "#     vn.feed_documentation(documentation=documentation)\n",
    "\n",
    "# for example in data[\"examples\"]:\n",
    "#     q = example[\"question\"]\n",
    "#     sql = example[\"answer\"]\n",
    "#     vn.feed_examples(question=q, sql=sql)"
   ]
  },
  {
   "cell_type": "code",
   "execution_count": null,
   "metadata": {},
   "outputs": [],
   "source": [
    "# Para borrar todos los datos de la db\n",
    "# vn.remove_all_data()"
   ]
  },
  {
   "cell_type": "code",
   "execution_count": null,
   "metadata": {},
   "outputs": [],
   "source": [
    "training_data = vn.get_training_data()\n",
    "print(training_data)"
   ]
  },
  {
   "cell_type": "code",
   "execution_count": 1,
   "metadata": {},
   "outputs": [
    {
     "ename": "NameError",
     "evalue": "name 'vn' is not defined",
     "output_type": "error",
     "traceback": [
      "\u001b[1;31m---------------------------------------------------------------------------\u001b[0m",
      "\u001b[1;31mNameError\u001b[0m                                 Traceback (most recent call last)",
      "Cell \u001b[1;32mIn[1], line 2\u001b[0m\n\u001b[0;32m      1\u001b[0m question \u001b[38;5;241m=\u001b[39m \u001b[38;5;124m\"\u001b[39m\u001b[38;5;124mThe last requirement user is asking for is the average temperature for the measurement system with the Tag 546899GGIE\u001b[39m\u001b[38;5;124m\"\u001b[39m\n\u001b[1;32m----> 2\u001b[0m generated_sql \u001b[38;5;241m=\u001b[39m \u001b[43mvn\u001b[49m\u001b[38;5;241m.\u001b[39mgenerate_sql(question)\n\u001b[0;32m      3\u001b[0m \u001b[38;5;28mprint\u001b[39m(generated_sql)\n",
      "\u001b[1;31mNameError\u001b[0m: name 'vn' is not defined"
     ]
    }
   ],
   "source": [
    "question = \"The last requirement user is asking for is the average temperature for the measurement system with the Tag 546899GGIE\"\n",
    "generated_sql = vn.generate_sql(question)\n",
    "print(generated_sql)"
   ]
  },
  {
   "cell_type": "code",
   "execution_count": 4,
   "metadata": {},
   "outputs": [
    {
     "name": "stdout",
     "output_type": "stream",
     "text": [
      "      Id                   Nombre                      Tag\n",
      "0      1         EMED-3138.11-128         EMED-3138.11-128\n",
      "1      2         EMED-3138.12-050         EMED-3138.12-050\n",
      "2      3         EMED-3138.12-052         EMED-3138.12-052\n",
      "3      4         EMED-3138.12-065         EMED-3138.12-065\n",
      "4      5         EMED-3138.12-105         EMED-3138.12-105\n",
      "..   ...                      ...                      ...\n",
      "145  146      TANQ-3141.03-218_OP      TANQ-3141.03-218_OP\n",
      "146  147      TANQ-3141.03-206_OP      TANQ-3141.03-206_OP\n",
      "147  148      TANQ-3138.04-202_OP      TANQ-3138.04-202_OP\n",
      "148  149  TI-TQ-3138.11-002(Meio)  TI-TQ-3138.11-002(Meio)\n",
      "149  150                 EMED-117                 EMED-117\n",
      "\n",
      "[150 rows x 3 columns]\n"
     ]
    },
    {
     "name": "stderr",
     "output_type": "stream",
     "text": [
      "C:\\Users\\lauth\\OneDrive\\Desktop\\open_ai_assistant_v2\\src\\tools\\vanna\\vanna_tool.py:40: UserWarning: pandas only supports SQLAlchemy connectable (engine/connection) or database string URI or sqlite3 DBAPI2 connection. Other DBAPI2 objects are not tested. Please consider using SQLAlchemy.\n",
      "  df = pd.read_sql_query(sql, self.conn)\n"
     ]
    }
   ],
   "source": [
    "res = vn.run_sql(generated_sql)\n",
    "print(res)"
   ]
  }
 ],
 "metadata": {
  "kernelspec": {
   "display_name": "venv",
   "language": "python",
   "name": "python3"
  },
  "language_info": {
   "codemirror_mode": {
    "name": "ipython",
    "version": 3
   },
   "file_extension": ".py",
   "mimetype": "text/x-python",
   "name": "python",
   "nbconvert_exporter": "python",
   "pygments_lexer": "ipython3",
   "version": "3.11.5"
  }
 },
 "nbformat": 4,
 "nbformat_minor": 2
}
