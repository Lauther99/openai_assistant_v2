{
 "cells": [
  {
   "cell_type": "code",
   "execution_count": 1,
   "metadata": {},
   "outputs": [],
   "source": [
    "import sys\n",
    "\n",
    "sys.path.append(\"C:\\\\Users\\\\lauth\\\\OneDrive\\\\Desktop\\\\open_ai_assistant_v2\")\n",
    "from src.components.chains.chains import Assistant\n",
    "\n",
    "assistant = Assistant(conversation_id=\"8af20de4-cd11-41da-9a9d-04762dd91322\")"
   ]
  },
  {
   "cell_type": "code",
   "execution_count": 2,
   "metadata": {},
   "outputs": [],
   "source": [
    "def chat(user_message: str) -> dict[str, any]:\n",
    "    # Generamos el resumen\n",
    "    assistant.add_user_message(message=user_message)\n",
    "    summary = assistant.predict_summary()\n",
    "    print(\"summary\")\n",
    "    print(summary)\n",
    "\n",
    "    # Generamos el requerimiento\n",
    "    user_request = assistant.get_request()\n",
    "    print(\"user_request\")\n",
    "    print(user_request[\"request\"])\n",
    "\n",
    "    # Filtramos el requerimiento y obtenemos una respuesta\n",
    "    first_response = assistant.improved_resquest_filter(\n",
    "        user_request=user_request[\"request\"],\n",
    "        coversation_summary=summary,\n",
    "        user_message=user_message,\n",
    "    )\n",
    "    print(\"first_response\")\n",
    "    print(first_response)\n",
    "\n",
    "    # Procesamos la respuesta para entregar una respuesta final\n",
    "    final_response = assistant.process_response(user_message, first_response[\"response\"])\n",
    "    print(\"final_response\")\n",
    "    print(final_response)\n",
    "\n",
    "    # Actualizando el chat\n",
    "    assistant.add_ai_message(message=final_response[\"response\"])\n",
    "\n",
    "    response = {\n",
    "        \"summary\": summary,\n",
    "        \"request\": user_request.get(\"request\", None),\n",
    "        \"request_type\": first_response.get(\"response_type\", None),\n",
    "        \"response\": first_response.get(\"response\", None),\n",
    "        \"sql\": first_response.get(\"sql\", None),\n",
    "        \"dataframe\": first_response.get(\"dataframe\", None),\n",
    "        \"final_response\": final_response.get(\"response\", None),\n",
    "        \"language\": final_response.get(\"detected_language\", None)\n",
    "    }\n",
    "\n",
    "    return response\n",
    "\n"
   ]
  },
  {
   "cell_type": "code",
   "execution_count": 7,
   "metadata": {},
   "outputs": [
    {
     "name": "stdout",
     "output_type": "stream",
     "text": [
      "summary\n",
      "\n",
      "        The conversation is about the temperature and static pressure of a computer with the tag FQI-EMED-3138.03-057 for the month of August 2023. The average temperature recorded for this computer in August 2023 was 22.1462°C. The human now wants to know the static pressure for the same period.\n",
      "user_request\n",
      "The static pressure for the same period as the average temperature of the specified computer tag is not available. Please provide more information or specify a different time period for the request.\n"
     ]
    },
    {
     "name": "stderr",
     "output_type": "stream",
     "text": [
      "C:\\Users\\lauth\\OneDrive\\Desktop\\open_ai_assistant_v2\\src\\tools\\vanna\\vanna_tool.py:40: UserWarning: pandas only supports SQLAlchemy connectable (engine/connection) or database string URI or sqlite3 DBAPI2 connection. Other DBAPI2 objects are not tested. Please consider using SQLAlchemy.\n",
      "  df = pd.read_sql_query(sql, self.conn)\n"
     ]
    },
    {
     "name": "stdout",
     "output_type": "stream",
     "text": [
      "first_response\n",
      "{'response_type': 'complex', 'response': \"The query requested all columns from the table `dbo_v2.med_sistema_medicion` where the `SamplingPointTag` is 'Pressão Estática (kPa)'.\", 'dataframe': Empty DataFrame\n",
      "Columns: [Id, IdPlataforma_fk, Nombre, Tag, Estado, FechaInicialMuestreo, IdCliente, IdTipoFluido_fk, SubTipoFluido, IdAplicabilidad_fk, SHOW_AUTOMATIC, VarCromatografia, Prover, IsDisponible, IdMeteringStation_fk, IdClase_fk, SamplingPointTag, LimiteEstadisticoInicial, PROFACCODE, SOURCE, RefPid, NumeroLineaProceso, Localizacion, NominalLineSize, IdSchedule_fk, IdRating_fk, ClasificacionArea, Servicio, LimiteEstadistico_Default, LimiteEstadistico_Manual, IdSamplingPoint_fk, IsVisible, usu_creacion, fec_creacion, usu_modificacion, fec_modificacion, Uso, IdArea_fk, NombreSanqGas, IdDeBaseOperacional_fk, EsProvador, Tramo, IdDelSistemaAsociado_fk]\n",
      "Index: []\n",
      "\n",
      "[0 rows x 43 columns], 'sql': \"SELECT *\\nFROM dbo_v2.med_sistema_medicion\\nWHERE SamplingPointTag = 'Pressão Estática (kPa)';\"}\n",
      "final_response\n",
      "{'detected_language': 'spanish', 'response': \"La consulta solicitó todas las columnas de la tabla `dbo_v2.med_sistema_medicion` donde `SamplingPointTag` es 'Pressão Estática (kPa)'.\"}\n"
     ]
    }
   ],
   "source": [
    "user_last_message = \"ahora dame su presion estatica para el mismo periodo\"\n",
    "res = chat(user_last_message)"
   ]
  },
  {
   "cell_type": "code",
   "execution_count": 8,
   "metadata": {},
   "outputs": [
    {
     "name": "stdout",
     "output_type": "stream",
     "text": [
      "SELECT *\n",
      "FROM dbo_v2.med_sistema_medicion\n",
      "WHERE SamplingPointTag = 'Pressão Estática (kPa)';\n"
     ]
    }
   ],
   "source": [
    "print(res[\"sql\"])"
   ]
  },
  {
   "cell_type": "code",
   "execution_count": 5,
   "metadata": {},
   "outputs": [
    {
     "name": "stdout",
     "output_type": "stream",
     "text": [
      "------------------ current_conversation ------------------\n",
      "\n",
      "        The conversation is about obtaining data for a specific computer with the tag FQI-EMED-3138.03-057. The human asks for the average temperature for the month of August 2023, and the AI responds with a temperature of 22.1462 °C. The human then asks for the average static pressure.\n",
      "\n",
      " ------------------ current_messages ------------------\n",
      "Human Message:  dame la temperatura promedio del computador con tag FQI-EMED-3138.03-057 para el mes de agosto de 2023\n",
      "AI Message:  La temperatura promedio en agosto de 2023 para la etiqueta de computadora especificada 'FQI-EMED-3138.03-057' fue de 22.1462 °C.\n",
      "Human Message:  me das su la presion estatica promedio?\n",
      "AI Message:  La presión estática promedio en el conjunto de datos es de 1527.07 kPa.\n"
     ]
    }
   ],
   "source": [
    "from src.components.memory import MEMORY_TYPES\n",
    "\n",
    "current_summary= assistant.summary\n",
    "current_messages = assistant.get_current_messages()\n",
    "\n",
    "print(\"------------------ current_conversation ------------------\")\n",
    "print(current_summary)\n",
    "print(\"\\n ------------------ current_messages ------------------\")\n",
    "for message in current_messages:\n",
    "    if message[\"type\"] == MEMORY_TYPES[\"AI\"]:\n",
    "        print(\"AI Message: \", message[\"content\"])\n",
    "    else:\n",
    "        print(\"Human Message: \", message[\"content\"])"
   ]
  },
  {
   "cell_type": "code",
   "execution_count": 6,
   "metadata": {},
   "outputs": [
    {
     "data": {
      "text/plain": [
       "[{'type': 'Human',\n",
       "  'content': 'dame la temperatura promedio del computador con tag FQI-EMED-3138.03-057 para el mes de agosto de 2023'},\n",
       " {'type': 'AI',\n",
       "  'content': \"La temperatura promedio en agosto de 2023 para la etiqueta de computadora especificada 'FQI-EMED-3138.03-057' fue de 22.1462 °C.\"},\n",
       " {'type': 'Human', 'content': 'me das su la presion estatica promedio?'},\n",
       " {'type': 'AI',\n",
       "  'content': 'La presión estática promedio en el conjunto de datos es de 1527.07 kPa.'}]"
      ]
     },
     "execution_count": 6,
     "metadata": {},
     "output_type": "execute_result"
    }
   ],
   "source": [
    "assistant.get_current_messages()"
   ]
  }
 ],
 "metadata": {
  "kernelspec": {
   "display_name": "venv",
   "language": "python",
   "name": "python3"
  },
  "language_info": {
   "codemirror_mode": {
    "name": "ipython",
    "version": 3
   },
   "file_extension": ".py",
   "mimetype": "text/x-python",
   "name": "python",
   "nbconvert_exporter": "python",
   "pygments_lexer": "ipython3",
   "version": "3.11.5"
  }
 },
 "nbformat": 4,
 "nbformat_minor": 2
}
