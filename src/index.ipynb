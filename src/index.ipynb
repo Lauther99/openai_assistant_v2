{
 "cells": [
  {
   "cell_type": "code",
   "execution_count": 1,
   "metadata": {},
   "outputs": [],
   "source": [
    "import sys\n",
    "sys.path.append(\"C:\\\\Users\\\\lauth\\\\OneDrive\\\\Desktop\\\\open_ai_assistant_v2\")\n",
    "from src.components.chains.chains import Assistant\n",
    "import pandas as pd\n",
    "\n",
    "assistant = Assistant(conversation_id=\"8af20de4-cd11-41da-9a9d-04762dd91322\")\n",
    "user_last_message = \"Quiero una lista de los sistemas de medicion\""
   ]
  },
  {
   "cell_type": "markdown",
   "metadata": {},
   "source": [
    "#### Generando un resumen de la conversación"
   ]
  },
  {
   "cell_type": "code",
   "execution_count": 3,
   "metadata": {},
   "outputs": [
    {
     "name": "stdout",
     "output_type": "stream",
     "text": [
      "\n",
      "        The human is asking for a list of measurement systems.\n"
     ]
    }
   ],
   "source": [
    "assistant.add_user_message(message=user_last_message)\n",
    "# assistant.add_ai_message(message=\"Aqui tienes la lista de los sistemas de Medicion: Medidor 1a, Medidor 2a, Medidor 3a\")\n",
    "# assistant.add_user_message(message=\"Hola\")\n",
    "# assistant.add_ai_message(message=\"Claro, ¿me puedes proporcionar un identificador del sistema de medición?\")\n",
    "# assistant.add_user_message(message=\"me dices cuales son los ids que existen?\")\n",
    "# assistant.add_user_message(message=\"el Tag es F980-40\")\n",
    "# assistant.add_ai_message(message=\"Por supuesto, ¿que tipo de información requieres?\")\n",
    "# assistant.add_user_message(message=\"Me gustaria saber el promedio de la presion en las fechas de enero y febrero\")\n",
    "# assistant.add_user_message(message=\"Necesito una lista de los sistemas de medicion de gas\")\n",
    "summary = assistant.get_memory_summary()\n",
    "print(summary)"
   ]
  },
  {
   "cell_type": "markdown",
   "metadata": {},
   "source": [
    "#### Generamos cual es el requerimiento del usuario del resumen"
   ]
  },
  {
   "cell_type": "code",
   "execution_count": 4,
   "metadata": {},
   "outputs": [
    {
     "name": "stdout",
     "output_type": "stream",
     "text": [
      "The human is requesting a list of measurement systems.\n"
     ]
    }
   ],
   "source": [
    "user_request = assistant.get_request(summary)\n",
    "print(user_request[\"request\"])"
   ]
  },
  {
   "cell_type": "markdown",
   "metadata": {},
   "source": [
    "#### Clasificamos el requerimiento"
   ]
  },
  {
   "cell_type": "code",
   "execution_count": 5,
   "metadata": {},
   "outputs": [
    {
     "name": "stdout",
     "output_type": "stream",
     "text": [
      "{'analysis': 'This is a complete request, the human is asking for a list of measurement systems and I can not answer with the context', 'response': 'complex-complete'}\n"
     ]
    }
   ],
   "source": [
    "request_type = assistant.classify_request(user_request[\"request\"])\n",
    "print(request_type)"
   ]
  },
  {
   "cell_type": "code",
   "execution_count": 6,
   "metadata": {},
   "outputs": [],
   "source": [
    "def get_response(\n",
    "    request_type: str,\n",
    "    user_request: str,\n",
    "    coversation_summary: str,\n",
    "    user_last_message: str,\n",
    "):\n",
    "    if request_type == \"simple\":\n",
    "        res = assistant.greeting_response(coversation_summary, user_last_message)\n",
    "        return res\n",
    "    elif request_type == \"complex-incomplete\":\n",
    "        # keywords = assistant.get_keywords_from_requirement(user_request)\n",
    "        # tables = assistant.get_table_names(keywords)\n",
    "        # print(keywords)\n",
    "        # print(tables)\n",
    "        print(\"No esta completo\")\n",
    "        return\n",
    "    elif request_type == \"complex-complete\":\n",
    "        df = assistant.get_answer_from_db(user_request)\n",
    "        res = assistant.get_complete_response(\n",
    "            user_request=user_request, context_dataframe=df\n",
    "        )\n",
    "        return res\n",
    "    else:\n",
    "        raise ValueError(f\"Not support request type: {request_type}\")"
   ]
  },
  {
   "cell_type": "code",
   "execution_count": 7,
   "metadata": {},
   "outputs": [
    {
     "name": "stderr",
     "output_type": "stream",
     "text": [
      "C:\\Users\\lauth\\OneDrive\\Desktop\\open_ai_assistant_v2\\src\\tools\\vanna\\vanna_tool.py:40: UserWarning: pandas only supports SQLAlchemy connectable (engine/connection) or database string URI or sqlite3 DBAPI2 connection. Other DBAPI2 objects are not tested. Please consider using SQLAlchemy.\n",
      "  df = pd.read_sql_query(sql, self.conn)\n"
     ]
    }
   ],
   "source": [
    "request = user_request[\"request\"]\n",
    "request_type = request_type[\"response\"]\n",
    "summary = summary\n",
    "\n",
    "res = get_response(request_type, request, summary, user_last_message)"
   ]
  },
  {
   "cell_type": "code",
   "execution_count": 8,
   "metadata": {},
   "outputs": [
    {
     "name": "stdout",
     "output_type": "stream",
     "text": [
      "\n",
      "The DataFrame contains three columns: Id, Nombre, and Tag. The Id column is a unique identifier for each row in the DataFrame. The Nombre column contains a string of characters that represents a measurement system. The Tag column also contains a string of characters that represents a measurement system, but it is a more specific identifier than the Nombre column. The DataFrame contains 10 examples of measurement systems, but it is likely that there are many more measurement systems in the complete DataFrame.\n"
     ]
    },
    {
     "data": {
      "text/html": [
       "<div>\n",
       "<style scoped>\n",
       "    .dataframe tbody tr th:only-of-type {\n",
       "        vertical-align: middle;\n",
       "    }\n",
       "\n",
       "    .dataframe tbody tr th {\n",
       "        vertical-align: top;\n",
       "    }\n",
       "\n",
       "    .dataframe thead th {\n",
       "        text-align: right;\n",
       "    }\n",
       "</style>\n",
       "<table border=\"1\" class=\"dataframe\">\n",
       "  <thead>\n",
       "    <tr style=\"text-align: right;\">\n",
       "      <th></th>\n",
       "      <th>Id</th>\n",
       "      <th>Nombre</th>\n",
       "      <th>Tag</th>\n",
       "    </tr>\n",
       "  </thead>\n",
       "  <tbody>\n",
       "    <tr>\n",
       "      <th>0</th>\n",
       "      <td>1</td>\n",
       "      <td>EMED-3138.11-128</td>\n",
       "      <td>EMED-3138.11-128</td>\n",
       "    </tr>\n",
       "    <tr>\n",
       "      <th>1</th>\n",
       "      <td>2</td>\n",
       "      <td>EMED-3138.12-050</td>\n",
       "      <td>EMED-3138.12-050</td>\n",
       "    </tr>\n",
       "    <tr>\n",
       "      <th>2</th>\n",
       "      <td>3</td>\n",
       "      <td>EMED-3138.12-052</td>\n",
       "      <td>EMED-3138.12-052</td>\n",
       "    </tr>\n",
       "    <tr>\n",
       "      <th>3</th>\n",
       "      <td>4</td>\n",
       "      <td>EMED-3138.12-065</td>\n",
       "      <td>EMED-3138.12-065</td>\n",
       "    </tr>\n",
       "    <tr>\n",
       "      <th>4</th>\n",
       "      <td>5</td>\n",
       "      <td>EMED-3138.12-105</td>\n",
       "      <td>EMED-3138.12-105</td>\n",
       "    </tr>\n",
       "    <tr>\n",
       "      <th>...</th>\n",
       "      <td>...</td>\n",
       "      <td>...</td>\n",
       "      <td>...</td>\n",
       "    </tr>\n",
       "    <tr>\n",
       "      <th>145</th>\n",
       "      <td>146</td>\n",
       "      <td>TANQ-3141.03-218_OP</td>\n",
       "      <td>TANQ-3141.03-218_OP</td>\n",
       "    </tr>\n",
       "    <tr>\n",
       "      <th>146</th>\n",
       "      <td>147</td>\n",
       "      <td>TANQ-3141.03-206_OP</td>\n",
       "      <td>TANQ-3141.03-206_OP</td>\n",
       "    </tr>\n",
       "    <tr>\n",
       "      <th>147</th>\n",
       "      <td>148</td>\n",
       "      <td>TANQ-3138.04-202_OP</td>\n",
       "      <td>TANQ-3138.04-202_OP</td>\n",
       "    </tr>\n",
       "    <tr>\n",
       "      <th>148</th>\n",
       "      <td>149</td>\n",
       "      <td>TI-TQ-3138.11-002(Meio)</td>\n",
       "      <td>TI-TQ-3138.11-002(Meio)</td>\n",
       "    </tr>\n",
       "    <tr>\n",
       "      <th>149</th>\n",
       "      <td>150</td>\n",
       "      <td>EMED-117</td>\n",
       "      <td>EMED-117</td>\n",
       "    </tr>\n",
       "  </tbody>\n",
       "</table>\n",
       "<p>150 rows × 3 columns</p>\n",
       "</div>"
      ],
      "text/plain": [
       "      Id                   Nombre                      Tag\n",
       "0      1         EMED-3138.11-128         EMED-3138.11-128\n",
       "1      2         EMED-3138.12-050         EMED-3138.12-050\n",
       "2      3         EMED-3138.12-052         EMED-3138.12-052\n",
       "3      4         EMED-3138.12-065         EMED-3138.12-065\n",
       "4      5         EMED-3138.12-105         EMED-3138.12-105\n",
       "..   ...                      ...                      ...\n",
       "145  146      TANQ-3141.03-218_OP      TANQ-3141.03-218_OP\n",
       "146  147      TANQ-3141.03-206_OP      TANQ-3141.03-206_OP\n",
       "147  148      TANQ-3138.04-202_OP      TANQ-3138.04-202_OP\n",
       "148  149  TI-TQ-3138.11-002(Meio)  TI-TQ-3138.11-002(Meio)\n",
       "149  150                 EMED-117                 EMED-117\n",
       "\n",
       "[150 rows x 3 columns]"
      ]
     },
     "execution_count": 8,
     "metadata": {},
     "output_type": "execute_result"
    }
   ],
   "source": [
    "import pandas as pd\n",
    "\n",
    "final_response = res[\"response\"]\n",
    "final_df : pd.DataFrame = res[\"dataframe\"]\n",
    "\n",
    "print(final_response)\n",
    "final_df.head(None)"
   ]
  },
  {
   "cell_type": "code",
   "execution_count": 7,
   "metadata": {},
   "outputs": [],
   "source": [
    "assistant.add_ai_message(message=res)"
   ]
  },
  {
   "cell_type": "code",
   "execution_count": 2,
   "metadata": {},
   "outputs": [],
   "source": [
    "import sys\n",
    "sys.path.append(\"C:\\\\Users\\\\lauth\\\\OneDrive\\\\Desktop\\\\open_ai_assistant_v2\")\n",
    "from src.components.chains.chains import Assistant\n",
    "import pandas as pd\n",
    "\n",
    "assistant = Assistant(conversation_id=\"8af20de4-cd11-41da-9a9d-04762dd91322\")\n",
    "\n",
    "def get_response(\n",
    "    request_type: str,\n",
    "    user_request: str,\n",
    "    coversation_summary: str,\n",
    "    user_last_message: str,\n",
    "):\n",
    "    response = {\n",
    "        \"answer\" : \"\",\n",
    "        \"dataframe\" : []\n",
    "    }\n",
    "    \n",
    "    if request_type == \"simple\":\n",
    "        response[\"answer\"] = assistant.greeting_response(coversation_summary, user_last_message)\n",
    "    elif request_type == \"complex-incomplete\":\n",
    "        # keywords = assistant.get_keywords_from_requirement(user_request)\n",
    "        # tables = assistant.get_table_names(keywords)\n",
    "        # print(keywords)\n",
    "        # print(tables)\n",
    "        response[\"answer\"] = \"No esta completo\"\n",
    "    elif request_type == \"complex-complete\":\n",
    "        df = assistant.get_answer_from_db(user_request)\n",
    "        res = assistant.get_complete_response(\n",
    "            user_request=user_request, context_dataframe=df\n",
    "        )\n",
    "        response[\"answer\"] = res\n",
    "        response[\"dataframe\"].append(df)\n",
    "    else:\n",
    "        raise ValueError(f\"Not support request type: {request_type}\")\n",
    "    \n",
    "    return response\n",
    "\n",
    "def chat(user_message : str):\n",
    "    # Generamos el resumen\n",
    "    assistant.add_user_message(message=user_message)\n",
    "    summary = assistant.get_memory_summary()\n",
    "    \n",
    "    # Generamos el requerimiento\n",
    "    user_request = assistant.get_request(summary)\n",
    "    \n",
    "    # Clasificamos el requerimiento\n",
    "    request_type = assistant.classify_request(user_request[\"request\"])\n",
    "    \n",
    "    # Obtenemos una respuesta\n",
    "    first_response = get_response(request_type[\"response\"], user_request[\"request\"], summary, user_message)\n",
    "    \n",
    "    # Procesamos la respuesta para entregar una respuesta final\n",
    "    final_response = assistant.process_final_response(user_message, first_response[\"answer\"])\n",
    "    \n",
    "    # Actualizando el chat\n",
    "    assistant.add_ai_message(message=final_response[\"final_answer\"])\n",
    "    \n",
    "    if len(first_response[\"dataframe\"]) > 0:\n",
    "        return final_response[\"final_answer\"], first_response[\"dataframe\"]\n",
    "    else:\n",
    "        return final_response[\"final_answer\"]"
   ]
  },
  {
   "cell_type": "code",
   "execution_count": 6,
   "metadata": {},
   "outputs": [
    {
     "name": "stderr",
     "output_type": "stream",
     "text": [
      "C:\\Users\\lauth\\OneDrive\\Desktop\\open_ai_assistant_v2\\src\\tools\\vanna\\vanna_tool.py:40: UserWarning: pandas only supports SQLAlchemy connectable (engine/connection) or database string URI or sqlite3 DBAPI2 connection. Other DBAPI2 objects are not tested. Please consider using SQLAlchemy.\n",
      "  df = pd.read_sql_query(sql, self.conn)\n"
     ]
    },
    {
     "name": "stdout",
     "output_type": "stream",
     "text": [
      "\n",
      "\"final_answer\": \"The DataFrame contiene tres columnas: Id, Nombre, y Tag. La columna Id es un identificador único para cada fila en el DataFrame. La columna Nombre contiene una cadena de caracteres que representa un sistema de medición. La columna Tag también contiene una cadena de caracteres que representa un sistema de medición, pero es un formato diferente al de la columna Nombre. El DataFrame contiene 10 ejemplos de sistemas de medición, pero probablemente hay más sistemas de medición en el DataFrame completo.\"\n"
     ]
    }
   ],
   "source": [
    "user_last_message = \"quiero una lista de los sistemas de medicion\"\n",
    "res = chat(user_last_message)"
   ]
  },
  {
   "cell_type": "code",
   "execution_count": 7,
   "metadata": {},
   "outputs": [
    {
     "name": "stdout",
     "output_type": "stream",
     "text": [
      "The DataFrame contiene tres columnas: Id, Nombre, y Tag. La columna Id es un identificador único para cada fila en el DataFrame. La columna Nombre contiene una cadena de caracteres que representa un sistema de medición. La columna Tag también contiene una cadena de caracteres que representa un sistema de medición, pero es un formato diferente al de la columna Nombre. El DataFrame contiene 10 ejemplos de sistemas de medición, pero probablemente hay más sistemas de medición en el DataFrame completo.\n",
      "      Id                   Nombre                      Tag\n",
      "0      1         EMED-3138.11-128         EMED-3138.11-128\n",
      "1      2         EMED-3138.12-050         EMED-3138.12-050\n",
      "2      3         EMED-3138.12-052         EMED-3138.12-052\n",
      "3      4         EMED-3138.12-065         EMED-3138.12-065\n",
      "4      5         EMED-3138.12-105         EMED-3138.12-105\n",
      "..   ...                      ...                      ...\n",
      "145  146      TANQ-3141.03-218_OP      TANQ-3141.03-218_OP\n",
      "146  147      TANQ-3141.03-206_OP      TANQ-3141.03-206_OP\n",
      "147  148      TANQ-3138.04-202_OP      TANQ-3138.04-202_OP\n",
      "148  149  TI-TQ-3138.11-002(Meio)  TI-TQ-3138.11-002(Meio)\n",
      "149  150                 EMED-117                 EMED-117\n",
      "\n",
      "[150 rows x 3 columns]\n"
     ]
    }
   ],
   "source": [
    "print(res[0])\n",
    "print(res[1][0])"
   ]
  },
  {
   "cell_type": "code",
   "execution_count": 9,
   "metadata": {},
   "outputs": [
    {
     "data": {
      "text/plain": [
       "'\\n        The human is asking AI for its name and AI responds with M-Assistant and asks how it can help. The human then asks for a list of measurement systems and AI explains that the DataFrame contains three columns: Id, Nombre, and Tag. The Id column is a unique identifier for each row in the DataFrame. The Nombre column contains a string that represents a measurement system. The Tag column also contains a string that represents a measurement system, but in a different format than the Nombre column. The DataFrame contains 10 examples of measurement systems, but there are likely more in the complete DataFrame.'"
      ]
     },
     "execution_count": 9,
     "metadata": {},
     "output_type": "execute_result"
    }
   ],
   "source": [
    "assistant.get_memory_summary()"
   ]
  }
 ],
 "metadata": {
  "kernelspec": {
   "display_name": "venv",
   "language": "python",
   "name": "python3"
  },
  "language_info": {
   "codemirror_mode": {
    "name": "ipython",
    "version": 3
   },
   "file_extension": ".py",
   "mimetype": "text/x-python",
   "name": "python",
   "nbconvert_exporter": "python",
   "pygments_lexer": "ipython3",
   "version": "3.11.5"
  }
 },
 "nbformat": 4,
 "nbformat_minor": 2
}
