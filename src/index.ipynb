{
 "cells": [
  {
   "cell_type": "code",
   "execution_count": 1,
   "metadata": {},
   "outputs": [],
   "source": [
    "import sys\n",
    "sys.path.append(\"C:\\\\Users\\\\lauth\\\\OneDrive\\\\Desktop\\\\open_ai_assistant_v2\")\n",
    "from src.components.chains.chains import Assistant\n",
    "import pandas as pd\n",
    "\n",
    "assistant = Assistant(conversation_id=\"8af20de4-cd11-41da-9a9d-04762dd91322\")\n",
    "\n",
    "def chat(user_message : str) -> dict[str, any]:\n",
    "    # Generamos el resumen\n",
    "    assistant.add_user_message(message=user_message)\n",
    "    summary = assistant.get_memory_summary()\n",
    "    print(\"summary\")\n",
    "    print(summary)\n",
    "    \n",
    "    # Generamos el requerimiento\n",
    "    user_request = assistant.get_request(summary)\n",
    "    print(\"user_request\")\n",
    "    print(user_request)\n",
    "    \n",
    "    # Clasificamos el requerimiento\n",
    "    request_type = assistant.classify_request(user_request[\"request\"])\n",
    "    print(\"request_type\")\n",
    "    print(request_type)\n",
    "    \n",
    "    # Filtramos el requerimiento y obtenemos una respuesta\n",
    "    first_response = assistant.filter_request(request_type[\"response\"], user_request[\"request\"], summary, user_message)\n",
    "    print(\"first_response\")\n",
    "    print(first_response)\n",
    "    \n",
    "    # Procesamos la respuesta para entregar una respuesta final\n",
    "    final_response = assistant.process_response(user_message, first_response[\"response\"])\n",
    "    print(\"final_response\")\n",
    "    print(final_response)\n",
    "    \n",
    "    # Actualizando el chat\n",
    "    assistant.add_ai_message(message=final_response[\"final_answer\"])\n",
    "    \n",
    "    response = {\n",
    "        \"summary\" : summary,\n",
    "        \"request\" : user_request,\n",
    "        \"request_type\" : request_type,\n",
    "        \"response\" : first_response[\"response\"],\n",
    "        \"sql\" : first_response[\"sql\"],\n",
    "        \"dataframe\" : first_response[\"dataframe\"],\n",
    "        \"final_response\" : final_response[\"final_answer\"] \n",
    "    }\n",
    "    \n",
    "    return response"
   ]
  },
  {
   "cell_type": "code",
   "execution_count": 2,
   "metadata": {},
   "outputs": [
    {
     "name": "stdout",
     "output_type": "stream",
     "text": [
      "summary\n",
      "\n",
      "        The human is asking for the average static pressure of the flow computer with Tag FQI-EMED-3135.01-067 for the months of August 2023.\n",
      "user_request\n",
      "{'request': 'The human is asking for the average static pressure of the flow computer with Tag FQI-EMED-3135.01-067 for the months of August 2023.'}\n",
      "request_type\n",
      "{'analysis': 'It seems to be a detailed request because the user is giving a tag for the flow computer, information parameter like static pressure and a time range.', 'response': 'complex-complete'}\n"
     ]
    },
    {
     "name": "stderr",
     "output_type": "stream",
     "text": [
      "C:\\Users\\lauth\\OneDrive\\Desktop\\open_ai_assistant_v2\\src\\tools\\vanna\\vanna_tool.py:40: UserWarning: pandas only supports SQLAlchemy connectable (engine/connection) or database string URI or sqlite3 DBAPI2 connection. Other DBAPI2 objects are not tested. Please consider using SQLAlchemy.\n",
      "  df = pd.read_sql_query(sql, self.conn)\n"
     ]
    },
    {
     "name": "stdout",
     "output_type": "stream",
     "text": [
      "first_response\n",
      "{'sql': \"SELECT AVG(vd.Valor) AS Average_Static_Pressure\\nFROM dbo_v2.var_variable_datos vd\\nJOIN dbo_v2.var_tipo_variable vt ON vd.idVariable_fk = vt.Id\\nJOIN dbo_v2.fcs_computador_medidor cm ON vd.idSistemaMedicion_fk = cm.Id_Sisema_Medicion\\nJOIN dbo_v2.fcs_computadores c ON cm.IdComputador_fk = c.Id\\nWHERE c.Tag = 'FQI-EMED-3135.01-067'\\nAND vt.Nombre = 'Pressão Estática (kPa)'\\nAND MONTH(vd.Fecha) = 8\\nAND YEAR(vd.Fecha) = 2023;\", 'dataframe': [   Average_Static_Pressure\n",
      "0                 -1.49857], 'response': \"The average static pressure for the device with the Tag 'FQI-EMED-3135.01-067' in August 2023 is approximately -1.49857.\"}\n",
      "final_response\n",
      "{'final_answer': \"El promedio de la presión estática para el dispositivo con la etiqueta 'FQI-EMED-3135.01-067' en agosto de 2023 es aproximadamente -1.49857.\"}\n"
     ]
    }
   ],
   "source": [
    "user_last_message = \"Dame el promedio de la presion estatica del computador de flujo con tag FQI-EMED-3135.01-067 para los meses de agosto del 2023\"\n",
    "res = chat(user_last_message)"
   ]
  },
  {
   "cell_type": "code",
   "execution_count": 4,
   "metadata": {},
   "outputs": [
    {
     "name": "stdout",
     "output_type": "stream",
     "text": [
      "SELECT AVG(vd.Valor) AS Average_Static_Pressure\n",
      "FROM dbo_v2.var_variable_datos vd\n",
      "JOIN dbo_v2.var_tipo_variable vt ON vd.idVariable_fk = vt.Id\n",
      "JOIN dbo_v2.fcs_computador_medidor cm ON vd.idSistemaMedicion_fk = cm.Id_Sisema_Medicion\n",
      "JOIN dbo_v2.fcs_computadores c ON cm.IdComputador_fk = c.Id\n",
      "WHERE c.Tag = 'FQI-EMED-3135.01-067'\n",
      "AND vt.Nombre = 'Pressão Estática (kPa)'\n",
      "AND MONTH(vd.Fecha) = 8\n",
      "AND YEAR(vd.Fecha) = 2023;\n"
     ]
    }
   ],
   "source": [
    "print(res[\"sql\"])"
   ]
  },
  {
   "cell_type": "code",
   "execution_count": 4,
   "metadata": {},
   "outputs": [
    {
     "name": "stdout",
     "output_type": "stream",
     "text": [
      "------------------ current_conversation ------------------\n",
      "\n",
      "El humano está saludando a AI y le está pidiendo el promedio de la presión estática de un sistema de medición con la etiqueta 'FQI-EMED-3135.01-067' para los meses de agosto del 2023. AI responde que el promedio de la presión estática para ese sistema en agosto de 2023 es -1.49857 kPa.\n",
      "\n",
      " ------------------ current_messages ------------------\n",
      "Human Message: Dame el promedio de la presion estatica del computador de flujo con tag FQI-EMED-3135.01-067 para los meses de agosto del 2023\n",
      "AI Message: El promedio de la presión estática para el sistema con la etiqueta 'FQI-EMED-3135.01-067' en agosto de 2023 es -1.49857 kPa.\n"
     ]
    }
   ],
   "source": [
    "from langchain_core.messages import AIMessage\n",
    "\n",
    "current_conversation = assistant.get_memory_summary()\n",
    "current_messages = assistant._get_current_messages()\n",
    "\n",
    "print(\"------------------ current_conversation ------------------\")\n",
    "print(current_conversation)\n",
    "print(\"\\n ------------------ current_messages ------------------\")\n",
    "for message in current_messages:\n",
    "    if isinstance(message, AIMessage):\n",
    "        print(f\"AI Message: {message.content}\")\n",
    "    else:\n",
    "        print(f\"Human Message: {message.content}\")"
   ]
  }
 ],
 "metadata": {
  "kernelspec": {
   "display_name": "venv",
   "language": "python",
   "name": "python3"
  },
  "language_info": {
   "codemirror_mode": {
    "name": "ipython",
    "version": 3
   },
   "file_extension": ".py",
   "mimetype": "text/x-python",
   "name": "python",
   "nbconvert_exporter": "python",
   "pygments_lexer": "ipython3",
   "version": "3.11.5"
  }
 },
 "nbformat": 4,
 "nbformat_minor": 2
}
